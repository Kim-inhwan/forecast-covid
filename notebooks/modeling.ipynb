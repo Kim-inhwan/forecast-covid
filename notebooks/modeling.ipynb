{
 "cells": [
  {
   "cell_type": "markdown",
   "metadata": {},
   "source": [
    "# Forecast COVID-19 modeling"
   ]
  },
  {
   "cell_type": "markdown",
   "metadata": {},
   "source": [
    "## 초기 설정"
   ]
  },
  {
   "cell_type": "code",
   "execution_count": 1,
   "metadata": {},
   "outputs": [],
   "source": [
    "import sys\n",
    "\n",
    "sys.path.append('..')  # ROOT 디렉토리 path 추가"
   ]
  },
  {
   "cell_type": "code",
   "execution_count": 2,
   "metadata": {},
   "outputs": [],
   "source": [
    "# 모듈 자동 리로드\n",
    "\n",
    "%load_ext autoreload\n",
    "%autoreload 2"
   ]
  },
  {
   "cell_type": "code",
   "execution_count": 76,
   "metadata": {},
   "outputs": [],
   "source": [
    "# 필요 라이브러리 임포트\n",
    "import os\n",
    "from pathlib import Path\n",
    "from urllib.request import urlopen, Request\n",
    "from urllib.parse import urlencode, quote_plus\n",
    "\n",
    "import tensorflow as tf\n",
    "import pandas as pd\n",
    "import numpy as np\n",
    "import xmltodict\n",
    "from sklearn.preprocessing import MinMaxScaler\n",
    "from sklearn.model_selection import train_test_split\n",
    "from matplotlib import pyplot as plt\n",
    "from pytrends import dailydata\n",
    "from xgboost import XGBRegressor"
   ]
  },
  {
   "cell_type": "code",
   "execution_count": 4,
   "metadata": {},
   "outputs": [],
   "source": [
    "ROOT = Path(os.getcwd()).parent"
   ]
  },
  {
   "cell_type": "markdown",
   "metadata": {},
   "source": [
    "## 데이터 수집"
   ]
  },
  {
   "cell_type": "code",
   "execution_count": 5,
   "metadata": {},
   "outputs": [],
   "source": [
    "# 공공데이터 포털 API key\n",
    "\n",
    "with open(ROOT / 'datago_key.txt', 'r') as f:\n",
    "    service_key = f.read()"
   ]
  },
  {
   "cell_type": "code",
   "execution_count": 6,
   "metadata": {},
   "outputs": [],
   "source": [
    "service_url = 'http://openapi.data.go.kr/openapi/service/rest/Covid19/getCovid19SidoInfStateJson'\n",
    "\n",
    "query_params = '?' + urlencode({\n",
    "    quote_plus('ServiceKey'): service_key,\n",
    "    quote_plus('pageNo'): '1',\n",
    "    quote_plus('numOfRows'): '10',\n",
    "    quote_plus('startCreateDt'): '20200303',\n",
    "    quote_plus('endCreateDt'): '20220220',\n",
    "})\n",
    "\n",
    "req = Request(service_url + query_params)\n",
    "req.get_method = lambda: 'GET'\n",
    "response = urlopen(req)"
   ]
  },
  {
   "cell_type": "code",
   "execution_count": 7,
   "metadata": {},
   "outputs": [
    {
     "data": {
      "text/html": [
       "<div>\n",
       "<style scoped>\n",
       "    .dataframe tbody tr th:only-of-type {\n",
       "        vertical-align: middle;\n",
       "    }\n",
       "\n",
       "    .dataframe tbody tr th {\n",
       "        vertical-align: top;\n",
       "    }\n",
       "\n",
       "    .dataframe thead th {\n",
       "        text-align: right;\n",
       "    }\n",
       "</style>\n",
       "<table border=\"1\" class=\"dataframe\">\n",
       "  <thead>\n",
       "    <tr style=\"text-align: right;\">\n",
       "      <th></th>\n",
       "      <th>createDt</th>\n",
       "      <th>deathCnt</th>\n",
       "      <th>defCnt</th>\n",
       "      <th>gubun</th>\n",
       "      <th>gubunCn</th>\n",
       "      <th>gubunEn</th>\n",
       "      <th>incDec</th>\n",
       "      <th>isolClearCnt</th>\n",
       "      <th>localOccCnt</th>\n",
       "      <th>overFlowCnt</th>\n",
       "      <th>qurRate</th>\n",
       "      <th>seq</th>\n",
       "      <th>stdDay</th>\n",
       "      <th>updateDt</th>\n",
       "    </tr>\n",
       "  </thead>\n",
       "  <tbody>\n",
       "    <tr>\n",
       "      <th>0</th>\n",
       "      <td>2020-03-03 09:00:00.000</td>\n",
       "      <td>0</td>\n",
       "      <td>0</td>\n",
       "      <td>검역</td>\n",
       "      <td>隔離區</td>\n",
       "      <td>Lazaretto</td>\n",
       "      <td>0</td>\n",
       "      <td>0</td>\n",
       "      <td>0</td>\n",
       "      <td>0</td>\n",
       "      <td>0.00</td>\n",
       "      <td>818</td>\n",
       "      <td>2020년 03월 03일 00시</td>\n",
       "      <td>2021-09-16 10:11:33.897</td>\n",
       "    </tr>\n",
       "    <tr>\n",
       "      <th>1</th>\n",
       "      <td>2020-03-03 09:00:00.000</td>\n",
       "      <td>28</td>\n",
       "      <td>4812</td>\n",
       "      <td>합계</td>\n",
       "      <td>合计</td>\n",
       "      <td>Total</td>\n",
       "      <td>600</td>\n",
       "      <td>34</td>\n",
       "      <td>599</td>\n",
       "      <td>1</td>\n",
       "      <td>9.28</td>\n",
       "      <td>836</td>\n",
       "      <td>2020년 03월 03일 00시</td>\n",
       "      <td>2021-09-16 10:11:33.897</td>\n",
       "    </tr>\n",
       "    <tr>\n",
       "      <th>2</th>\n",
       "      <td>2020-03-03 09:00:00.000</td>\n",
       "      <td>0</td>\n",
       "      <td>98</td>\n",
       "      <td>서울</td>\n",
       "      <td>首尔</td>\n",
       "      <td>Seoul</td>\n",
       "      <td>7</td>\n",
       "      <td>13</td>\n",
       "      <td>7</td>\n",
       "      <td>0</td>\n",
       "      <td>1.01</td>\n",
       "      <td>835</td>\n",
       "      <td>2020년 03월 03일 00시</td>\n",
       "      <td>2021-09-16 10:11:33.897</td>\n",
       "    </tr>\n",
       "    <tr>\n",
       "      <th>3</th>\n",
       "      <td>2020-03-03 09:00:00.000</td>\n",
       "      <td>0</td>\n",
       "      <td>87</td>\n",
       "      <td>부산</td>\n",
       "      <td>釜山</td>\n",
       "      <td>Busan</td>\n",
       "      <td>2</td>\n",
       "      <td>0</td>\n",
       "      <td>2</td>\n",
       "      <td>0</td>\n",
       "      <td>2.55</td>\n",
       "      <td>834</td>\n",
       "      <td>2020년 03월 03일 00시</td>\n",
       "      <td>2021-09-16 10:11:33.897</td>\n",
       "    </tr>\n",
       "    <tr>\n",
       "      <th>4</th>\n",
       "      <td>2020-03-03 09:00:00.000</td>\n",
       "      <td>20</td>\n",
       "      <td>3604</td>\n",
       "      <td>대구</td>\n",
       "      <td>大邱</td>\n",
       "      <td>Daegu</td>\n",
       "      <td>520</td>\n",
       "      <td>2</td>\n",
       "      <td>520</td>\n",
       "      <td>0</td>\n",
       "      <td>147.92</td>\n",
       "      <td>833</td>\n",
       "      <td>2020년 03월 03일 00시</td>\n",
       "      <td>2021-09-16 10:11:33.897</td>\n",
       "    </tr>\n",
       "    <tr>\n",
       "      <th>...</th>\n",
       "      <td>...</td>\n",
       "      <td>...</td>\n",
       "      <td>...</td>\n",
       "      <td>...</td>\n",
       "      <td>...</td>\n",
       "      <td>...</td>\n",
       "      <td>...</td>\n",
       "      <td>...</td>\n",
       "      <td>...</td>\n",
       "      <td>...</td>\n",
       "      <td>...</td>\n",
       "      <td>...</td>\n",
       "      <td>...</td>\n",
       "      <td>...</td>\n",
       "    </tr>\n",
       "    <tr>\n",
       "      <th>13675</th>\n",
       "      <td>2022-02-20 08:53:21.989</td>\n",
       "      <td>53</td>\n",
       "      <td>35837</td>\n",
       "      <td>전남</td>\n",
       "      <td>全南</td>\n",
       "      <td>Jeollanam-do</td>\n",
       "      <td>2064</td>\n",
       "      <td>6931</td>\n",
       "      <td>2060</td>\n",
       "      <td>4</td>\n",
       "      <td>1936</td>\n",
       "      <td>15224</td>\n",
       "      <td>2022년 02월 20일 00시</td>\n",
       "      <td>null</td>\n",
       "    </tr>\n",
       "    <tr>\n",
       "      <th>13676</th>\n",
       "      <td>2022-02-20 08:53:21.989</td>\n",
       "      <td>273</td>\n",
       "      <td>60572</td>\n",
       "      <td>경북</td>\n",
       "      <td>庆北</td>\n",
       "      <td>Gyeongsangbuk-do</td>\n",
       "      <td>3349</td>\n",
       "      <td>19098</td>\n",
       "      <td>3342</td>\n",
       "      <td>7</td>\n",
       "      <td>2295</td>\n",
       "      <td>15225</td>\n",
       "      <td>2022년 02월 20일 00시</td>\n",
       "      <td>null</td>\n",
       "    </tr>\n",
       "    <tr>\n",
       "      <th>13677</th>\n",
       "      <td>2022-02-20 08:53:21.989</td>\n",
       "      <td>132</td>\n",
       "      <td>78329</td>\n",
       "      <td>경남</td>\n",
       "      <td>庆南</td>\n",
       "      <td>Gyeongsangnam-do</td>\n",
       "      <td>5093</td>\n",
       "      <td>40611</td>\n",
       "      <td>5087</td>\n",
       "      <td>6</td>\n",
       "      <td>2345</td>\n",
       "      <td>15226</td>\n",
       "      <td>2022년 02월 20일 00시</td>\n",
       "      <td>null</td>\n",
       "    </tr>\n",
       "    <tr>\n",
       "      <th>13678</th>\n",
       "      <td>2022-02-20 08:53:21.989</td>\n",
       "      <td>14</td>\n",
       "      <td>16102</td>\n",
       "      <td>제주</td>\n",
       "      <td>济州</td>\n",
       "      <td>Jeju</td>\n",
       "      <td>1231</td>\n",
       "      <td>10083</td>\n",
       "      <td>1231</td>\n",
       "      <td>0</td>\n",
       "      <td>2387</td>\n",
       "      <td>15227</td>\n",
       "      <td>2022년 02월 20일 00시</td>\n",
       "      <td>null</td>\n",
       "    </tr>\n",
       "    <tr>\n",
       "      <th>13679</th>\n",
       "      <td>2022-02-20 08:53:21.99</td>\n",
       "      <td>16</td>\n",
       "      <td>9501</td>\n",
       "      <td>검역</td>\n",
       "      <td>隔離區</td>\n",
       "      <td>Lazaretto</td>\n",
       "      <td>20</td>\n",
       "      <td>8653</td>\n",
       "      <td>0</td>\n",
       "      <td>20</td>\n",
       "      <td>-</td>\n",
       "      <td>15228</td>\n",
       "      <td>2022년 02월 20일 00시</td>\n",
       "      <td>null</td>\n",
       "    </tr>\n",
       "  </tbody>\n",
       "</table>\n",
       "<p>13680 rows × 14 columns</p>\n",
       "</div>"
      ],
      "text/plain": [
       "                      createDt deathCnt defCnt gubun gubunCn  \\\n",
       "0      2020-03-03 09:00:00.000        0      0    검역     隔離區   \n",
       "1      2020-03-03 09:00:00.000       28   4812    합계      合计   \n",
       "2      2020-03-03 09:00:00.000        0     98    서울      首尔   \n",
       "3      2020-03-03 09:00:00.000        0     87    부산      釜山   \n",
       "4      2020-03-03 09:00:00.000       20   3604    대구      大邱   \n",
       "...                        ...      ...    ...   ...     ...   \n",
       "13675  2022-02-20 08:53:21.989       53  35837    전남      全南   \n",
       "13676  2022-02-20 08:53:21.989      273  60572    경북      庆北   \n",
       "13677  2022-02-20 08:53:21.989      132  78329    경남      庆南   \n",
       "13678  2022-02-20 08:53:21.989       14  16102    제주      济州   \n",
       "13679   2022-02-20 08:53:21.99       16   9501    검역     隔離區   \n",
       "\n",
       "                gubunEn incDec isolClearCnt localOccCnt overFlowCnt qurRate  \\\n",
       "0             Lazaretto      0            0           0           0    0.00   \n",
       "1                 Total    600           34         599           1    9.28   \n",
       "2                 Seoul      7           13           7           0    1.01   \n",
       "3                 Busan      2            0           2           0    2.55   \n",
       "4                 Daegu    520            2         520           0  147.92   \n",
       "...                 ...    ...          ...         ...         ...     ...   \n",
       "13675      Jeollanam-do   2064         6931        2060           4    1936   \n",
       "13676  Gyeongsangbuk-do   3349        19098        3342           7    2295   \n",
       "13677  Gyeongsangnam-do   5093        40611        5087           6    2345   \n",
       "13678              Jeju   1231        10083        1231           0    2387   \n",
       "13679         Lazaretto     20         8653           0          20       -   \n",
       "\n",
       "         seq             stdDay                 updateDt  \n",
       "0        818  2020년 03월 03일 00시  2021-09-16 10:11:33.897  \n",
       "1        836  2020년 03월 03일 00시  2021-09-16 10:11:33.897  \n",
       "2        835  2020년 03월 03일 00시  2021-09-16 10:11:33.897  \n",
       "3        834  2020년 03월 03일 00시  2021-09-16 10:11:33.897  \n",
       "4        833  2020년 03월 03일 00시  2021-09-16 10:11:33.897  \n",
       "...      ...                ...                      ...  \n",
       "13675  15224  2022년 02월 20일 00시                     null  \n",
       "13676  15225  2022년 02월 20일 00시                     null  \n",
       "13677  15226  2022년 02월 20일 00시                     null  \n",
       "13678  15227  2022년 02월 20일 00시                     null  \n",
       "13679  15228  2022년 02월 20일 00시                     null  \n",
       "\n",
       "[13680 rows x 14 columns]"
      ]
     },
     "execution_count": 7,
     "metadata": {},
     "output_type": "execute_result"
    }
   ],
   "source": [
    "# 정상 응답\n",
    "if response.status == 200:\n",
    "    response = xmltodict.parse(response.read())['response']\n",
    "    # 결과가 정상적으로 반환되었을 때\n",
    "    if response['header']['resultCode'] == '00':\n",
    "        # 결과 아이템이 존재할 때\n",
    "        if response['body']['items']:\n",
    "            covid_data = pd.DataFrame(response['body']['items']['item'])\n",
    "            covid_data.sort_values(by=['createDt'], ignore_index=True, inplace=True)\n",
    "            \n",
    "covid_data"
   ]
  },
  {
   "cell_type": "code",
   "execution_count": 7,
   "metadata": {},
   "outputs": [
    {
     "name": "stdout",
     "output_type": "stream",
     "text": [
      "선별진료소:2020-03-01 2020-03-31\n",
      "선별진료소:2020-04-01 2020-04-30\n",
      "선별진료소:2020-05-01 2020-05-31\n",
      "선별진료소:2020-06-01 2020-06-30\n",
      "선별진료소:2020-07-01 2020-07-31\n",
      "선별진료소:2020-08-01 2020-08-31\n",
      "선별진료소:2020-09-01 2020-09-30\n",
      "선별진료소:2020-10-01 2020-10-31\n",
      "선별진료소:2020-11-01 2020-11-30\n",
      "선별진료소:2020-12-01 2020-12-31\n",
      "선별진료소:2021-01-01 2021-01-31\n",
      "선별진료소:2021-02-01 2021-02-28\n",
      "선별진료소:2021-03-01 2021-03-31\n",
      "선별진료소:2021-04-01 2021-04-30\n",
      "선별진료소:2021-05-01 2021-05-31\n",
      "선별진료소:2021-06-01 2021-06-30\n",
      "선별진료소:2021-07-01 2021-07-31\n",
      "선별진료소:2021-08-01 2021-08-31\n",
      "선별진료소:2021-09-01 2021-09-30\n",
      "선별진료소:2021-10-01 2021-10-31\n",
      "선별진료소:2021-11-01 2021-11-30\n",
      "선별진료소:2021-12-01 2021-12-31\n",
      "선별진료소:2022-01-01 2022-01-31\n",
      "선별진료소:2022-02-01 2022-02-28\n"
     ]
    },
    {
     "data": {
      "text/html": [
       "<div>\n",
       "<style scoped>\n",
       "    .dataframe tbody tr th:only-of-type {\n",
       "        vertical-align: middle;\n",
       "    }\n",
       "\n",
       "    .dataframe tbody tr th {\n",
       "        vertical-align: top;\n",
       "    }\n",
       "\n",
       "    .dataframe thead th {\n",
       "        text-align: right;\n",
       "    }\n",
       "</style>\n",
       "<table border=\"1\" class=\"dataframe\">\n",
       "  <thead>\n",
       "    <tr style=\"text-align: right;\">\n",
       "      <th></th>\n",
       "      <th>선별진료소_unscaled</th>\n",
       "      <th>선별진료소_monthly</th>\n",
       "      <th>isPartial</th>\n",
       "      <th>scale</th>\n",
       "      <th>선별진료소</th>\n",
       "    </tr>\n",
       "    <tr>\n",
       "      <th>date</th>\n",
       "      <th></th>\n",
       "      <th></th>\n",
       "      <th></th>\n",
       "      <th></th>\n",
       "      <th></th>\n",
       "    </tr>\n",
       "  </thead>\n",
       "  <tbody>\n",
       "    <tr>\n",
       "      <th>2020-03-01</th>\n",
       "      <td>37</td>\n",
       "      <td>12.0</td>\n",
       "      <td>False</td>\n",
       "      <td>0.12</td>\n",
       "      <td>4.44</td>\n",
       "    </tr>\n",
       "    <tr>\n",
       "      <th>2020-03-02</th>\n",
       "      <td>100</td>\n",
       "      <td>12.0</td>\n",
       "      <td>NaN</td>\n",
       "      <td>0.12</td>\n",
       "      <td>12.00</td>\n",
       "    </tr>\n",
       "    <tr>\n",
       "      <th>2020-03-03</th>\n",
       "      <td>39</td>\n",
       "      <td>12.0</td>\n",
       "      <td>NaN</td>\n",
       "      <td>0.12</td>\n",
       "      <td>4.68</td>\n",
       "    </tr>\n",
       "    <tr>\n",
       "      <th>2020-03-04</th>\n",
       "      <td>46</td>\n",
       "      <td>12.0</td>\n",
       "      <td>NaN</td>\n",
       "      <td>0.12</td>\n",
       "      <td>5.52</td>\n",
       "    </tr>\n",
       "    <tr>\n",
       "      <th>2020-03-05</th>\n",
       "      <td>27</td>\n",
       "      <td>12.0</td>\n",
       "      <td>NaN</td>\n",
       "      <td>0.12</td>\n",
       "      <td>3.24</td>\n",
       "    </tr>\n",
       "    <tr>\n",
       "      <th>...</th>\n",
       "      <td>...</td>\n",
       "      <td>...</td>\n",
       "      <td>...</td>\n",
       "      <td>...</td>\n",
       "      <td>...</td>\n",
       "    </tr>\n",
       "    <tr>\n",
       "      <th>2022-02-21</th>\n",
       "      <td>45</td>\n",
       "      <td>61.0</td>\n",
       "      <td>NaN</td>\n",
       "      <td>0.61</td>\n",
       "      <td>27.45</td>\n",
       "    </tr>\n",
       "    <tr>\n",
       "      <th>2022-02-22</th>\n",
       "      <td>43</td>\n",
       "      <td>61.0</td>\n",
       "      <td>NaN</td>\n",
       "      <td>0.61</td>\n",
       "      <td>26.23</td>\n",
       "    </tr>\n",
       "    <tr>\n",
       "      <th>2022-02-23</th>\n",
       "      <td>36</td>\n",
       "      <td>61.0</td>\n",
       "      <td>NaN</td>\n",
       "      <td>0.61</td>\n",
       "      <td>21.96</td>\n",
       "    </tr>\n",
       "    <tr>\n",
       "      <th>2022-02-24</th>\n",
       "      <td>40</td>\n",
       "      <td>61.0</td>\n",
       "      <td>NaN</td>\n",
       "      <td>0.61</td>\n",
       "      <td>24.40</td>\n",
       "    </tr>\n",
       "    <tr>\n",
       "      <th>2022-02-25</th>\n",
       "      <td>0</td>\n",
       "      <td>61.0</td>\n",
       "      <td>NaN</td>\n",
       "      <td>0.61</td>\n",
       "      <td>0.00</td>\n",
       "    </tr>\n",
       "  </tbody>\n",
       "</table>\n",
       "<p>727 rows × 5 columns</p>\n",
       "</div>"
      ],
      "text/plain": [
       "            선별진료소_unscaled  선별진료소_monthly isPartial  scale  선별진료소\n",
       "date                                                             \n",
       "2020-03-01              37           12.0     False   0.12   4.44\n",
       "2020-03-02             100           12.0       NaN   0.12  12.00\n",
       "2020-03-03              39           12.0       NaN   0.12   4.68\n",
       "2020-03-04              46           12.0       NaN   0.12   5.52\n",
       "2020-03-05              27           12.0       NaN   0.12   3.24\n",
       "...                    ...            ...       ...    ...    ...\n",
       "2022-02-21              45           61.0       NaN   0.61  27.45\n",
       "2022-02-22              43           61.0       NaN   0.61  26.23\n",
       "2022-02-23              36           61.0       NaN   0.61  21.96\n",
       "2022-02-24              40           61.0       NaN   0.61  24.40\n",
       "2022-02-25               0           61.0       NaN   0.61   0.00\n",
       "\n",
       "[727 rows x 5 columns]"
      ]
     },
     "execution_count": 7,
     "metadata": {},
     "output_type": "execute_result"
    }
   ],
   "source": [
    "trends_data = dailydata.get_daily_data('선별진료소', 2020, 3, 2022, 2, geo='KR')\n",
    "trends_data"
   ]
  },
  {
   "cell_type": "code",
   "execution_count": 39,
   "metadata": {},
   "outputs": [],
   "source": [
    "for keyword in ['자가격리', '코로나 증상']:\n",
    "    tmp_df = dailydata.get_daily_data(keyword, 2020, 3, 2022, 2, geo='KR', verbose=False)\n",
    "    trends_data = pd.concat([trends_data, tmp_df[[keyword + '_unscaled', keyword]]], axis=1)"
   ]
  },
  {
   "cell_type": "code",
   "execution_count": 45,
   "metadata": {},
   "outputs": [
    {
     "data": {
      "text/plain": [
       "<AxesSubplot:xlabel='date'>"
      ]
     },
     "execution_count": 45,
     "metadata": {},
     "output_type": "execute_result"
    },
    {
     "data": {
      "image/png": "[encoded data removed]",
      "text/plain": [
       "<Figure size 432x288 with 1 Axes>"
      ]
     },
     "metadata": {
      "needs_background": "light"
     },
     "output_type": "display_data"
    }
   ],
   "source": [
    "trends_data['자가격리'].plot()"
   ]
  },
  {
   "cell_type": "code",
   "execution_count": 51,
   "metadata": {},
   "outputs": [
    {
     "name": "stdout",
     "output_type": "stream",
     "text": [
      "선별진료소\n"
     ]
    },
    {
     "data": {
      "image/png": "[encoded data removed]",
      "text/plain": [
       "<Figure size 432x288 with 1 Axes>"
      ]
     },
     "metadata": {
      "needs_background": "light"
     },
     "output_type": "display_data"
    },
    {
     "name": "stdout",
     "output_type": "stream",
     "text": [
      "자가격리\n"
     ]
    },
    {
     "data": {
      "image/png": "[encoded data removed]",
      "text/plain": [
       "<Figure size 432x288 with 1 Axes>"
      ]
     },
     "metadata": {
      "needs_background": "light"
     },
     "output_type": "display_data"
    },
    {
     "name": "stdout",
     "output_type": "stream",
     "text": [
      "코로나 증상\n"
     ]
    },
    {
     "data": {
      "image/png": "[encoded data removed]",
      "text/plain": [
       "<Figure size 432x288 with 1 Axes>"
      ]
     },
     "metadata": {
      "needs_background": "light"
     },
     "output_type": "display_data"
    }
   ],
   "source": [
    "for keyword in ['선별진료소', '자가격리', '코로나 증상']:\n",
    "    xcorrs = []\n",
    "    for shift in range(30):\n",
    "        coef = covid_data[covid_data['gubunEn'] == 'Total']['incDec'].reset_index(drop=True).corr(trends_data[(trends_data.index >= '20200303') \n",
    "                    & (trends_data.index <= '20220220')].reset_index()[keyword].shift(shift))\n",
    "        xcorrs.append(coef)\n",
    "    print(keyword)\n",
    "    plt.plot(xcorrs)\n",
    "    plt.show()    "
   ]
  },
  {
   "cell_type": "code",
   "execution_count": 56,
   "metadata": {},
   "outputs": [],
   "source": [
    "trends_data[(trends_data.index >= '20200303') \n",
    "             & (trends_data.index <= '20220220')].reset_index()[['date',\n",
    "                                                                 '선별진료소', '선별진료소_unscaled',\n",
    "                                                                 '자가격리', '자가격리_unscaled']].to_csv(ROOT / 'data/20200303_20220220_trends.csv', index=False)"
   ]
  },
  {
   "cell_type": "markdown",
   "metadata": {},
   "source": [
    "## 모델링"
   ]
  },
  {
   "cell_type": "code",
   "execution_count": 57,
   "metadata": {},
   "outputs": [],
   "source": [
    "covid_data = pd.read_csv(ROOT / 'data/20200303_20220220_covid.csv')\n",
    "trends_data = pd.read_csv(ROOT / 'data/20200303_20220220_trends.csv')"
   ]
  },
  {
   "cell_type": "code",
   "execution_count": 58,
   "metadata": {},
   "outputs": [],
   "source": [
    "INPUT_LEN = 28\n",
    "OUTPUT_LEN = 15"
   ]
  },
  {
   "cell_type": "code",
   "execution_count": 59,
   "metadata": {},
   "outputs": [
    {
     "data": {
      "text/html": [
       "<div>\n",
       "<style scoped>\n",
       "    .dataframe tbody tr th:only-of-type {\n",
       "        vertical-align: middle;\n",
       "    }\n",
       "\n",
       "    .dataframe tbody tr th {\n",
       "        vertical-align: top;\n",
       "    }\n",
       "\n",
       "    .dataframe thead th {\n",
       "        text-align: right;\n",
       "    }\n",
       "</style>\n",
       "<table border=\"1\" class=\"dataframe\">\n",
       "  <thead>\n",
       "    <tr style=\"text-align: right;\">\n",
       "      <th></th>\n",
       "      <th>date</th>\n",
       "      <th>선별진료소</th>\n",
       "      <th>선별진료소_unscaled</th>\n",
       "      <th>자가격리</th>\n",
       "      <th>자가격리_unscaled</th>\n",
       "    </tr>\n",
       "  </thead>\n",
       "  <tbody>\n",
       "    <tr>\n",
       "      <th>0</th>\n",
       "      <td>2020-03-03</td>\n",
       "      <td>4.68</td>\n",
       "      <td>39</td>\n",
       "      <td>19.76</td>\n",
       "      <td>76</td>\n",
       "    </tr>\n",
       "    <tr>\n",
       "      <th>1</th>\n",
       "      <td>2020-03-04</td>\n",
       "      <td>5.52</td>\n",
       "      <td>46</td>\n",
       "      <td>9.62</td>\n",
       "      <td>37</td>\n",
       "    </tr>\n",
       "    <tr>\n",
       "      <th>2</th>\n",
       "      <td>2020-03-05</td>\n",
       "      <td>3.24</td>\n",
       "      <td>27</td>\n",
       "      <td>10.66</td>\n",
       "      <td>41</td>\n",
       "    </tr>\n",
       "    <tr>\n",
       "      <th>3</th>\n",
       "      <td>2020-03-06</td>\n",
       "      <td>4.92</td>\n",
       "      <td>41</td>\n",
       "      <td>11.70</td>\n",
       "      <td>45</td>\n",
       "    </tr>\n",
       "    <tr>\n",
       "      <th>4</th>\n",
       "      <td>2020-03-07</td>\n",
       "      <td>12.00</td>\n",
       "      <td>100</td>\n",
       "      <td>10.14</td>\n",
       "      <td>39</td>\n",
       "    </tr>\n",
       "    <tr>\n",
       "      <th>...</th>\n",
       "      <td>...</td>\n",
       "      <td>...</td>\n",
       "      <td>...</td>\n",
       "      <td>...</td>\n",
       "      <td>...</td>\n",
       "    </tr>\n",
       "    <tr>\n",
       "      <th>715</th>\n",
       "      <td>2022-02-16</td>\n",
       "      <td>21.24</td>\n",
       "      <td>36</td>\n",
       "      <td>68.04</td>\n",
       "      <td>81</td>\n",
       "    </tr>\n",
       "    <tr>\n",
       "      <th>716</th>\n",
       "      <td>2022-02-17</td>\n",
       "      <td>23.01</td>\n",
       "      <td>39</td>\n",
       "      <td>57.96</td>\n",
       "      <td>69</td>\n",
       "    </tr>\n",
       "    <tr>\n",
       "      <th>717</th>\n",
       "      <td>2022-02-18</td>\n",
       "      <td>23.01</td>\n",
       "      <td>39</td>\n",
       "      <td>54.60</td>\n",
       "      <td>65</td>\n",
       "    </tr>\n",
       "    <tr>\n",
       "      <th>718</th>\n",
       "      <td>2022-02-19</td>\n",
       "      <td>32.45</td>\n",
       "      <td>55</td>\n",
       "      <td>57.96</td>\n",
       "      <td>69</td>\n",
       "    </tr>\n",
       "    <tr>\n",
       "      <th>719</th>\n",
       "      <td>2022-02-20</td>\n",
       "      <td>31.11</td>\n",
       "      <td>51</td>\n",
       "      <td>57.00</td>\n",
       "      <td>57</td>\n",
       "    </tr>\n",
       "  </tbody>\n",
       "</table>\n",
       "<p>720 rows × 5 columns</p>\n",
       "</div>"
      ],
      "text/plain": [
       "           date  선별진료소  선별진료소_unscaled   자가격리  자가격리_unscaled\n",
       "0    2020-03-03   4.68              39  19.76             76\n",
       "1    2020-03-04   5.52              46   9.62             37\n",
       "2    2020-03-05   3.24              27  10.66             41\n",
       "3    2020-03-06   4.92              41  11.70             45\n",
       "4    2020-03-07  12.00             100  10.14             39\n",
       "..          ...    ...             ...    ...            ...\n",
       "715  2022-02-16  21.24              36  68.04             81\n",
       "716  2022-02-17  23.01              39  57.96             69\n",
       "717  2022-02-18  23.01              39  54.60             65\n",
       "718  2022-02-19  32.45              55  57.96             69\n",
       "719  2022-02-20  31.11              51  57.00             57\n",
       "\n",
       "[720 rows x 5 columns]"
      ]
     },
     "execution_count": 59,
     "metadata": {},
     "output_type": "execute_result"
    }
   ],
   "source": [
    "trends_data"
   ]
  },
  {
   "cell_type": "code",
   "execution_count": 63,
   "metadata": {},
   "outputs": [
    {
     "data": {
      "text/plain": [
       "(720, 720)"
      ]
     },
     "execution_count": 63,
     "metadata": {},
     "output_type": "execute_result"
    }
   ],
   "source": [
    "x = trends_data[['선별진료소', '자가격리']].values\n",
    "y = covid_data[covid_data.gubunEn == 'Total'].incDec.astype('int').values\n",
    "\n",
    "len(x), len(y)"
   ]
  },
  {
   "cell_type": "code",
   "execution_count": 110,
   "metadata": {},
   "outputs": [],
   "source": [
    "x_scaler = MinMaxScaler()\n",
    "x_scaled = x_scaler.fit_transform(x)\n",
    "\n",
    "y_scaler = MinMaxScaler()\n",
    "y_scaled = y_scaler.fit_transform(y.reshape(-1, 1))\n",
    "y_scaled = y_scaled.reshape(-1)"
   ]
  },
  {
   "cell_type": "code",
   "execution_count": 115,
   "metadata": {},
   "outputs": [
    {
     "data": {
      "text/plain": [
       "(678, 678)"
      ]
     },
     "execution_count": 115,
     "metadata": {},
     "output_type": "execute_result"
    }
   ],
   "source": [
    "x_window = []\n",
    "y_window = []\n",
    "\n",
    "for i in range(len(x_scaled) - INPUT_LEN - OUTPUT_LEN + 1):\n",
    "    x_window.append(x_scaled[i:i + INPUT_LEN])\n",
    "    y_window.append(y_scaled[i + INPUT_LEN:i + INPUT_LEN + OUTPUT_LEN])\n",
    "\n",
    "x_window = np.array(x_window)\n",
    "y_window = np.array(y_window)\n",
    "    \n",
    "len(x_window), len(y_window)"
   ]
  },
  {
   "cell_type": "code",
   "execution_count": 132,
   "metadata": {},
   "outputs": [
    {
     "data": {
      "text/plain": [
       "((678, 28, 2), (678, 15), (0, 28, 2), (0, 15))"
      ]
     },
     "execution_count": 132,
     "metadata": {},
     "output_type": "execute_result"
    }
   ],
   "source": [
    "train_x, train_y = x_window[:int(len(x_window) * 1)], y_window[:int(len(y_window) * 1)]\n",
    "test_x, test_y = x_window[int(len(x_window) * 1):], y_window[int(len(y_window) * 1):]\n",
    "train_x.shape, train_y.shape, test_x.shape, test_y.shape"
   ]
  },
  {
   "cell_type": "code",
   "execution_count": 131,
   "metadata": {},
   "outputs": [
    {
     "data": {
      "text/plain": [
       "((542, 28, 2), (542, 15), (136, 28, 2), (136, 15))"
      ]
     },
     "execution_count": 131,
     "metadata": {},
     "output_type": "execute_result"
    }
   ],
   "source": [
    "train_x, test_x, train_y, test_y = train_test_split(x_window, y_window, test_size=0.2, shuffle=False)\n",
    "train_x.shape, train_y.shape, test_x.shape, test_y.shape"
   ]
  },
  {
   "cell_type": "code",
   "execution_count": 145,
   "metadata": {},
   "outputs": [],
   "source": [
    "tf.keras.backend.clear_session()\n",
    "\n",
    "model = tf.keras.models.Sequential([\n",
    "    tf.keras.layers.LSTM(256),\n",
    "    tf.keras.layers.Dense(OUTPUT_LEN)\n",
    "])\n",
    "\n",
    "model.compile(loss='mse', optimizer='adam')"
   ]
  },
  {
   "cell_type": "code",
   "execution_count": 146,
   "metadata": {},
   "outputs": [
    {
     "name": "stdout",
     "output_type": "stream",
     "text": [
      "Epoch 1/100\n"
     ]
    },
    {
     "name": "stderr",
     "output_type": "stream",
     "text": [
      "2022-02-27 21:21:23.658464: I tensorflow/core/grappler/optimizers/custom_graph_optimizer_registry.cc:113] Plugin optimizer for device_type GPU is enabled.\n",
      "2022-02-27 21:21:23.792496: I tensorflow/core/grappler/optimizers/custom_graph_optimizer_registry.cc:113] Plugin optimizer for device_type GPU is enabled.\n"
     ]
    },
    {
     "name": "stdout",
     "output_type": "stream",
     "text": [
      " 8/22 [=========>....................] - ETA: 0s - loss: 0.0030    "
     ]
    },
    {
     "name": "stderr",
     "output_type": "stream",
     "text": [
      "2022-02-27 21:21:23.867407: I tensorflow/core/grappler/optimizers/custom_graph_optimizer_registry.cc:113] Plugin optimizer for device_type GPU is enabled.\n"
     ]
    },
    {
     "name": "stdout",
     "output_type": "stream",
     "text": [
      "22/22 [==============================] - 1s 26ms/step - loss: 0.0027\n",
      "Epoch 2/100\n",
      "22/22 [==============================] - 0s 16ms/step - loss: 0.0022\n",
      "Epoch 3/100\n",
      "22/22 [==============================] - 0s 20ms/step - loss: 0.0023\n",
      "Epoch 4/100\n",
      "22/22 [==============================] - 0s 17ms/step - loss: 0.0018\n",
      "Epoch 5/100\n",
      "22/22 [==============================] - 0s 17ms/step - loss: 0.0018\n",
      "Epoch 6/100\n",
      "22/22 [==============================] - 0s 17ms/step - loss: 0.0021\n",
      "Epoch 7/100\n",
      "22/22 [==============================] - 0s 17ms/step - loss: 0.0020\n",
      "Epoch 8/100\n",
      "22/22 [==============================] - 0s 17ms/step - loss: 0.0016\n",
      "Epoch 9/100\n",
      "22/22 [==============================] - 0s 18ms/step - loss: 0.0013\n",
      "Epoch 10/100\n",
      "22/22 [==============================] - 0s 17ms/step - loss: 0.0013\n",
      "Epoch 11/100\n",
      "22/22 [==============================] - 0s 16ms/step - loss: 0.0028\n",
      "Epoch 12/100\n",
      "22/22 [==============================] - 0s 15ms/step - loss: 0.0023\n",
      "Epoch 13/100\n",
      "22/22 [==============================] - 0s 15ms/step - loss: 0.0021\n",
      "Epoch 14/100\n",
      "22/22 [==============================] - 0s 17ms/step - loss: 0.0018\n",
      "Epoch 15/100\n",
      "22/22 [==============================] - 0s 17ms/step - loss: 0.0015\n",
      "Epoch 16/100\n",
      "22/22 [==============================] - 0s 16ms/step - loss: 0.0022\n",
      "Epoch 17/100\n",
      "22/22 [==============================] - 0s 15ms/step - loss: 0.0017\n",
      "Epoch 18/100\n",
      "22/22 [==============================] - 0s 16ms/step - loss: 0.0014\n",
      "Epoch 19/100\n",
      "22/22 [==============================] - 0s 15ms/step - loss: 0.0013\n",
      "Epoch 20/100\n",
      "22/22 [==============================] - 0s 18ms/step - loss: 0.0011\n",
      "Epoch 21/100\n",
      "22/22 [==============================] - 0s 17ms/step - loss: 0.0010\n",
      "Epoch 22/100\n",
      "22/22 [==============================] - 0s 16ms/step - loss: 0.0012\n",
      "Epoch 23/100\n",
      "22/22 [==============================] - 0s 16ms/step - loss: 9.2104e-04\n",
      "Epoch 24/100\n",
      "22/22 [==============================] - 0s 14ms/step - loss: 8.8233e-04\n",
      "Epoch 25/100\n",
      "22/22 [==============================] - 0s 18ms/step - loss: 8.2066e-04\n",
      "Epoch 26/100\n",
      "22/22 [==============================] - 0s 16ms/step - loss: 8.4986e-04\n",
      "Epoch 27/100\n",
      "22/22 [==============================] - 0s 15ms/step - loss: 8.0911e-04\n",
      "Epoch 28/100\n",
      "22/22 [==============================] - 0s 16ms/step - loss: 9.0826e-04\n",
      "Epoch 29/100\n",
      "22/22 [==============================] - 0s 16ms/step - loss: 9.5282e-04\n",
      "Epoch 30/100\n",
      "22/22 [==============================] - 0s 17ms/step - loss: 8.5148e-04\n",
      "Epoch 31/100\n",
      "22/22 [==============================] - 0s 17ms/step - loss: 8.5678e-04\n",
      "Epoch 32/100\n",
      "22/22 [==============================] - 0s 17ms/step - loss: 6.9565e-04\n",
      "Epoch 33/100\n",
      "22/22 [==============================] - 0s 16ms/step - loss: 6.7002e-04\n",
      "Epoch 34/100\n",
      "22/22 [==============================] - 0s 16ms/step - loss: 5.8518e-04\n",
      "Epoch 35/100\n",
      "22/22 [==============================] - 0s 14ms/step - loss: 5.6402e-04\n",
      "Epoch 36/100\n",
      "22/22 [==============================] - 0s 15ms/step - loss: 5.5181e-04\n",
      "Epoch 37/100\n",
      "22/22 [==============================] - 0s 16ms/step - loss: 5.6033e-04\n",
      "Epoch 38/100\n",
      "22/22 [==============================] - 0s 15ms/step - loss: 8.9755e-04\n",
      "Epoch 39/100\n",
      "22/22 [==============================] - 0s 16ms/step - loss: 5.9868e-04\n",
      "Epoch 40/100\n",
      "22/22 [==============================] - 0s 15ms/step - loss: 7.2859e-04\n",
      "Epoch 41/100\n",
      "22/22 [==============================] - 0s 14ms/step - loss: 7.9641e-04\n",
      "Epoch 42/100\n",
      "22/22 [==============================] - 0s 16ms/step - loss: 0.0011\n",
      "Epoch 43/100\n",
      "22/22 [==============================] - 0s 16ms/step - loss: 8.1373e-04\n",
      "Epoch 44/100\n",
      "22/22 [==============================] - 0s 16ms/step - loss: 7.2487e-04\n",
      "Epoch 45/100\n",
      "22/22 [==============================] - 0s 15ms/step - loss: 5.6731e-04\n",
      "Epoch 46/100\n",
      "22/22 [==============================] - 0s 16ms/step - loss: 5.1791e-04\n",
      "Epoch 47/100\n",
      "22/22 [==============================] - 0s 15ms/step - loss: 4.7015e-04\n",
      "Epoch 48/100\n",
      "22/22 [==============================] - 0s 15ms/step - loss: 4.5586e-04\n",
      "Epoch 49/100\n",
      "22/22 [==============================] - 0s 14ms/step - loss: 4.2789e-04\n",
      "Epoch 50/100\n",
      "22/22 [==============================] - 0s 15ms/step - loss: 4.6495e-04\n",
      "Epoch 51/100\n",
      "22/22 [==============================] - 0s 16ms/step - loss: 4.1990e-04\n",
      "Epoch 52/100\n",
      "22/22 [==============================] - 0s 17ms/step - loss: 3.7896e-04\n",
      "Epoch 53/100\n",
      "22/22 [==============================] - 0s 14ms/step - loss: 4.1549e-04\n",
      "Epoch 54/100\n",
      "22/22 [==============================] - 0s 17ms/step - loss: 5.7148e-04\n",
      "Epoch 55/100\n",
      "22/22 [==============================] - 0s 16ms/step - loss: 4.5179e-04\n",
      "Epoch 56/100\n",
      "22/22 [==============================] - 0s 16ms/step - loss: 4.1419e-04\n",
      "Epoch 57/100\n",
      "22/22 [==============================] - 0s 16ms/step - loss: 3.9725e-04\n",
      "Epoch 58/100\n",
      "22/22 [==============================] - 0s 14ms/step - loss: 3.5385e-04\n",
      "Epoch 59/100\n",
      "22/22 [==============================] - 0s 16ms/step - loss: 6.7695e-04\n",
      "Epoch 60/100\n",
      "22/22 [==============================] - 0s 15ms/step - loss: 4.7235e-04\n",
      "Epoch 61/100\n",
      "22/22 [==============================] - 0s 17ms/step - loss: 4.5016e-04\n",
      "Epoch 62/100\n",
      "22/22 [==============================] - 0s 16ms/step - loss: 4.4042e-04\n",
      "Epoch 63/100\n",
      "22/22 [==============================] - 0s 16ms/step - loss: 3.2149e-04\n",
      "Epoch 64/100\n",
      "22/22 [==============================] - 0s 16ms/step - loss: 3.3176e-04\n",
      "Epoch 65/100\n",
      "22/22 [==============================] - 0s 16ms/step - loss: 2.8185e-04\n",
      "Epoch 66/100\n",
      "22/22 [==============================] - 0s 18ms/step - loss: 3.2805e-04\n",
      "Epoch 67/100\n",
      "22/22 [==============================] - 0s 14ms/step - loss: 3.0389e-04\n",
      "Epoch 68/100\n",
      "22/22 [==============================] - 0s 15ms/step - loss: 2.5559e-04\n",
      "Epoch 69/100\n",
      "22/22 [==============================] - 0s 13ms/step - loss: 2.5528e-04\n",
      "Epoch 70/100\n",
      "22/22 [==============================] - 0s 14ms/step - loss: 2.2931e-04\n",
      "Epoch 71/100\n",
      "22/22 [==============================] - 0s 15ms/step - loss: 2.5176e-04\n",
      "Epoch 72/100\n",
      "22/22 [==============================] - 0s 19ms/step - loss: 2.1933e-04\n",
      "Epoch 73/100\n",
      "22/22 [==============================] - 0s 15ms/step - loss: 2.6266e-04\n",
      "Epoch 74/100\n",
      "22/22 [==============================] - 0s 16ms/step - loss: 3.0471e-04\n",
      "Epoch 75/100\n",
      "22/22 [==============================] - 0s 16ms/step - loss: 7.1497e-04\n",
      "Epoch 76/100\n",
      "22/22 [==============================] - 0s 16ms/step - loss: 3.8113e-04\n",
      "Epoch 77/100\n",
      "22/22 [==============================] - 0s 16ms/step - loss: 5.4875e-04\n",
      "Epoch 78/100\n",
      "22/22 [==============================] - 0s 16ms/step - loss: 2.9147e-04\n",
      "Epoch 79/100\n",
      "22/22 [==============================] - 0s 16ms/step - loss: 2.8320e-04\n",
      "Epoch 80/100\n",
      "22/22 [==============================] - 0s 17ms/step - loss: 3.1090e-04\n",
      "Epoch 81/100\n",
      "22/22 [==============================] - 0s 16ms/step - loss: 2.7955e-04\n",
      "Epoch 82/100\n",
      "22/22 [==============================] - 0s 15ms/step - loss: 2.0798e-04\n",
      "Epoch 83/100\n",
      "22/22 [==============================] - 0s 15ms/step - loss: 2.8419e-04\n",
      "Epoch 84/100\n",
      "22/22 [==============================] - 0s 15ms/step - loss: 2.3693e-04\n",
      "Epoch 85/100\n",
      "22/22 [==============================] - 0s 16ms/step - loss: 2.3031e-04\n",
      "Epoch 86/100\n",
      "22/22 [==============================] - 0s 16ms/step - loss: 2.3224e-04\n",
      "Epoch 87/100\n",
      "22/22 [==============================] - 0s 15ms/step - loss: 2.1967e-04\n",
      "Epoch 88/100\n",
      "22/22 [==============================] - 0s 16ms/step - loss: 2.6883e-04\n",
      "Epoch 89/100\n",
      "22/22 [==============================] - 0s 15ms/step - loss: 2.1772e-04\n",
      "Epoch 90/100\n",
      "22/22 [==============================] - 0s 16ms/step - loss: 2.5737e-04\n",
      "Epoch 91/100\n",
      "22/22 [==============================] - 0s 17ms/step - loss: 2.2120e-04\n",
      "Epoch 92/100\n",
      "22/22 [==============================] - 0s 15ms/step - loss: 1.7750e-04\n",
      "Epoch 93/100\n",
      "22/22 [==============================] - 0s 14ms/step - loss: 1.6888e-04\n",
      "Epoch 94/100\n",
      "22/22 [==============================] - 0s 15ms/step - loss: 2.7665e-04\n",
      "Epoch 95/100\n",
      "22/22 [==============================] - 0s 18ms/step - loss: 3.6866e-04\n",
      "Epoch 96/100\n",
      "22/22 [==============================] - 0s 16ms/step - loss: 2.3619e-04\n",
      "Epoch 97/100\n",
      "22/22 [==============================] - 0s 15ms/step - loss: 2.1372e-04\n",
      "Epoch 98/100\n",
      "22/22 [==============================] - 0s 16ms/step - loss: 1.8692e-04\n",
      "Epoch 99/100\n",
      "22/22 [==============================] - 0s 15ms/step - loss: 1.7372e-04\n",
      "Epoch 100/100\n",
      "22/22 [==============================] - 0s 16ms/step - loss: 1.6664e-04\n"
     ]
    },
    {
     "data": {
      "text/plain": [
       "<keras.callbacks.History at 0x2f4797bb0>"
      ]
     },
     "execution_count": 146,
     "metadata": {},
     "output_type": "execute_result"
    }
   ],
   "source": [
    "model.fit(train_x, train_y, \n",
    "          epochs=100, batch_size=32)"
   ]
  },
  {
   "cell_type": "code",
   "execution_count": 147,
   "metadata": {},
   "outputs": [
    {
     "data": {
      "text/plain": [
       "TensorShape([678, 15])"
      ]
     },
     "execution_count": 147,
     "metadata": {},
     "output_type": "execute_result"
    }
   ],
   "source": [
    "preds = model(train_x)\n",
    "preds.shape"
   ]
  },
  {
   "cell_type": "code",
   "execution_count": 148,
   "metadata": {},
   "outputs": [
    {
     "data": {
      "image/png": "[encoded data removed]",
      "text/plain": [
       "<Figure size 432x288 with 1 Axes>"
      ]
     },
     "metadata": {
      "needs_background": "light"
     },
     "output_type": "display_data"
    }
   ],
   "source": [
    "plt.plot(train_y[:, 0])\n",
    "plt.plot(preds[:, 0])\n",
    "plt.show()"
   ]
  },
  {
   "cell_type": "code",
   "execution_count": 128,
   "metadata": {},
   "outputs": [
    {
     "data": {
      "image/png": "[encoded data removed]",
      "text/plain": [
       "<Figure size 432x288 with 1 Axes>"
      ]
     },
     "metadata": {
      "needs_background": "light"
     },
     "output_type": "display_data"
    }
   ],
   "source": [
    "for i, pred in enumerate(preds[:50]):\n",
    "    plt.plot(range(i, i + OUTPUT_LEN), pred)\n",
    "plt.show()"
   ]
  },
  {
   "cell_type": "code",
   "execution_count": 149,
   "metadata": {},
   "outputs": [
    {
     "data": {
      "image/png": "[encoded data removed]",
      "text/plain": [
       "<Figure size 432x288 with 1 Axes>"
      ]
     },
     "metadata": {
      "needs_background": "light"
     },
     "output_type": "display_data"
    }
   ],
   "source": [
    "plt.plot(model(x_scaled[-INPUT_LEN:][None])[0])\n",
    "plt.show()"
   ]
  }
 ],
 "metadata": {
  "interpreter": {
   "hash": "e7370f93d1d0cde622a1f8e1c04877d8463912d04d973331ad4851f04de6915a"
  },
  "kernelspec": {
   "display_name": "Python 3.8.10 64-bit",
   "language": "python",
   "name": "python3"
  },
  "language_info": {
   "codemirror_mode": {
    "name": "ipython",
    "version": 3
   },
   "file_extension": ".py",
   "mimetype": "text/x-python",
   "name": "python",
   "nbconvert_exporter": "python",
   "pygments_lexer": "ipython3",
   "version": "3.8.12"
  },
  "orig_nbformat": 4
 },
 "nbformat": 4,
 "nbformat_minor": 2
}
