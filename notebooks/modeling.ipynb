{
 "cells": [
  {
   "cell_type": "markdown",
   "metadata": {},
   "source": [
    "# Forecast COVID-19 modeling"
   ]
  },
  {
   "cell_type": "markdown",
   "metadata": {},
   "source": [
    "## 초기 설정"
   ]
  },
  {
   "cell_type": "code",
   "execution_count": 1,
   "metadata": {},
   "outputs": [],
   "source": [
    "import sys\n",
    "\n",
    "sys.path.append('..')  # ROOT 디렉토리 path 추가"
   ]
  },
  {
   "cell_type": "code",
   "execution_count": 2,
   "metadata": {},
   "outputs": [],
   "source": [
    "# 모듈 자동 리로드\n",
    "\n",
    "%load_ext autoreload\n",
    "%autoreload 2"
   ]
  },
  {
   "cell_type": "code",
   "execution_count": 3,
   "metadata": {},
   "outputs": [],
   "source": [
    "# 필요 라이브러리 임포트\n",
    "import os\n",
    "from pathlib import Path\n",
    "from urllib.request import urlopen, Request\n",
    "from urllib.parse import urlencode, quote_plus\n",
    "\n",
    "import torch\n",
    "import torch.nn as nn\n",
    "import pytorch_lightning as pl\n",
    "import pandas as pd\n",
    "import numpy as np\n",
    "import xmltodict\n",
    "from torch.utils.data import Dataset, DataLoader\n",
    "from sklearn.preprocessing import MinMaxScaler\n",
    "from matplotlib import pyplot as plt"
   ]
  },
  {
   "cell_type": "code",
   "execution_count": 4,
   "metadata": {},
   "outputs": [],
   "source": [
    "ROOT = Path(os.getcwd()).parent"
   ]
  },
  {
   "cell_type": "markdown",
   "metadata": {},
   "source": [
    "## 데이터 수집"
   ]
  },
  {
   "cell_type": "code",
   "execution_count": 5,
   "metadata": {},
   "outputs": [],
   "source": [
    "# 공공데이터 포털 API key\n",
    "\n",
    "with open(ROOT / 'datago_key.txt', 'r') as f:\n",
    "    service_key = f.read()"
   ]
  },
  {
   "cell_type": "code",
   "execution_count": 6,
   "metadata": {},
   "outputs": [],
   "source": [
    "service_url = 'http://openapi.data.go.kr/openapi/service/rest/Covid19/getCovid19SidoInfStateJson'\n",
    "\n",
    "query_params = '?' + urlencode({\n",
    "    quote_plus('ServiceKey'): service_key,\n",
    "    quote_plus('pageNo'): '1',\n",
    "    quote_plus('numOfRows'): '10',\n",
    "    quote_plus('startCreateDt'): '20200303',\n",
    "    quote_plus('endCreateDt'): '20220220',\n",
    "})\n",
    "\n",
    "req = Request(service_url + query_params)\n",
    "req.get_method = lambda: 'GET'\n",
    "response = urlopen(req)"
   ]
  },
  {
   "cell_type": "code",
   "execution_count": 7,
   "metadata": {},
   "outputs": [
    {
     "data": {
      "text/html": [
       "<div>\n",
       "<style scoped>\n",
       "    .dataframe tbody tr th:only-of-type {\n",
       "        vertical-align: middle;\n",
       "    }\n",
       "\n",
       "    .dataframe tbody tr th {\n",
       "        vertical-align: top;\n",
       "    }\n",
       "\n",
       "    .dataframe thead th {\n",
       "        text-align: right;\n",
       "    }\n",
       "</style>\n",
       "<table border=\"1\" class=\"dataframe\">\n",
       "  <thead>\n",
       "    <tr style=\"text-align: right;\">\n",
       "      <th></th>\n",
       "      <th>createDt</th>\n",
       "      <th>deathCnt</th>\n",
       "      <th>defCnt</th>\n",
       "      <th>gubun</th>\n",
       "      <th>gubunCn</th>\n",
       "      <th>gubunEn</th>\n",
       "      <th>incDec</th>\n",
       "      <th>isolClearCnt</th>\n",
       "      <th>localOccCnt</th>\n",
       "      <th>overFlowCnt</th>\n",
       "      <th>qurRate</th>\n",
       "      <th>seq</th>\n",
       "      <th>stdDay</th>\n",
       "      <th>updateDt</th>\n",
       "    </tr>\n",
       "  </thead>\n",
       "  <tbody>\n",
       "    <tr>\n",
       "      <th>0</th>\n",
       "      <td>2020-03-03 09:00:00.000</td>\n",
       "      <td>0</td>\n",
       "      <td>0</td>\n",
       "      <td>검역</td>\n",
       "      <td>隔離區</td>\n",
       "      <td>Lazaretto</td>\n",
       "      <td>0</td>\n",
       "      <td>0</td>\n",
       "      <td>0</td>\n",
       "      <td>0</td>\n",
       "      <td>0.00</td>\n",
       "      <td>818</td>\n",
       "      <td>2020년 03월 03일 00시</td>\n",
       "      <td>2021-09-16 10:11:33.897</td>\n",
       "    </tr>\n",
       "    <tr>\n",
       "      <th>1</th>\n",
       "      <td>2020-03-03 09:00:00.000</td>\n",
       "      <td>28</td>\n",
       "      <td>4812</td>\n",
       "      <td>합계</td>\n",
       "      <td>合计</td>\n",
       "      <td>Total</td>\n",
       "      <td>600</td>\n",
       "      <td>34</td>\n",
       "      <td>599</td>\n",
       "      <td>1</td>\n",
       "      <td>9.28</td>\n",
       "      <td>836</td>\n",
       "      <td>2020년 03월 03일 00시</td>\n",
       "      <td>2021-09-16 10:11:33.897</td>\n",
       "    </tr>\n",
       "    <tr>\n",
       "      <th>2</th>\n",
       "      <td>2020-03-03 09:00:00.000</td>\n",
       "      <td>0</td>\n",
       "      <td>98</td>\n",
       "      <td>서울</td>\n",
       "      <td>首尔</td>\n",
       "      <td>Seoul</td>\n",
       "      <td>7</td>\n",
       "      <td>13</td>\n",
       "      <td>7</td>\n",
       "      <td>0</td>\n",
       "      <td>1.01</td>\n",
       "      <td>835</td>\n",
       "      <td>2020년 03월 03일 00시</td>\n",
       "      <td>2021-09-16 10:11:33.897</td>\n",
       "    </tr>\n",
       "    <tr>\n",
       "      <th>3</th>\n",
       "      <td>2020-03-03 09:00:00.000</td>\n",
       "      <td>0</td>\n",
       "      <td>87</td>\n",
       "      <td>부산</td>\n",
       "      <td>釜山</td>\n",
       "      <td>Busan</td>\n",
       "      <td>2</td>\n",
       "      <td>0</td>\n",
       "      <td>2</td>\n",
       "      <td>0</td>\n",
       "      <td>2.55</td>\n",
       "      <td>834</td>\n",
       "      <td>2020년 03월 03일 00시</td>\n",
       "      <td>2021-09-16 10:11:33.897</td>\n",
       "    </tr>\n",
       "    <tr>\n",
       "      <th>4</th>\n",
       "      <td>2020-03-03 09:00:00.000</td>\n",
       "      <td>20</td>\n",
       "      <td>3604</td>\n",
       "      <td>대구</td>\n",
       "      <td>大邱</td>\n",
       "      <td>Daegu</td>\n",
       "      <td>520</td>\n",
       "      <td>2</td>\n",
       "      <td>520</td>\n",
       "      <td>0</td>\n",
       "      <td>147.92</td>\n",
       "      <td>833</td>\n",
       "      <td>2020년 03월 03일 00시</td>\n",
       "      <td>2021-09-16 10:11:33.897</td>\n",
       "    </tr>\n",
       "    <tr>\n",
       "      <th>...</th>\n",
       "      <td>...</td>\n",
       "      <td>...</td>\n",
       "      <td>...</td>\n",
       "      <td>...</td>\n",
       "      <td>...</td>\n",
       "      <td>...</td>\n",
       "      <td>...</td>\n",
       "      <td>...</td>\n",
       "      <td>...</td>\n",
       "      <td>...</td>\n",
       "      <td>...</td>\n",
       "      <td>...</td>\n",
       "      <td>...</td>\n",
       "      <td>...</td>\n",
       "    </tr>\n",
       "    <tr>\n",
       "      <th>13675</th>\n",
       "      <td>2022-02-20 08:53:21.989</td>\n",
       "      <td>53</td>\n",
       "      <td>35837</td>\n",
       "      <td>전남</td>\n",
       "      <td>全南</td>\n",
       "      <td>Jeollanam-do</td>\n",
       "      <td>2064</td>\n",
       "      <td>6931</td>\n",
       "      <td>2060</td>\n",
       "      <td>4</td>\n",
       "      <td>1936</td>\n",
       "      <td>15224</td>\n",
       "      <td>2022년 02월 20일 00시</td>\n",
       "      <td>null</td>\n",
       "    </tr>\n",
       "    <tr>\n",
       "      <th>13676</th>\n",
       "      <td>2022-02-20 08:53:21.989</td>\n",
       "      <td>273</td>\n",
       "      <td>60572</td>\n",
       "      <td>경북</td>\n",
       "      <td>庆北</td>\n",
       "      <td>Gyeongsangbuk-do</td>\n",
       "      <td>3349</td>\n",
       "      <td>19098</td>\n",
       "      <td>3342</td>\n",
       "      <td>7</td>\n",
       "      <td>2295</td>\n",
       "      <td>15225</td>\n",
       "      <td>2022년 02월 20일 00시</td>\n",
       "      <td>null</td>\n",
       "    </tr>\n",
       "    <tr>\n",
       "      <th>13677</th>\n",
       "      <td>2022-02-20 08:53:21.989</td>\n",
       "      <td>132</td>\n",
       "      <td>78329</td>\n",
       "      <td>경남</td>\n",
       "      <td>庆南</td>\n",
       "      <td>Gyeongsangnam-do</td>\n",
       "      <td>5093</td>\n",
       "      <td>40611</td>\n",
       "      <td>5087</td>\n",
       "      <td>6</td>\n",
       "      <td>2345</td>\n",
       "      <td>15226</td>\n",
       "      <td>2022년 02월 20일 00시</td>\n",
       "      <td>null</td>\n",
       "    </tr>\n",
       "    <tr>\n",
       "      <th>13678</th>\n",
       "      <td>2022-02-20 08:53:21.989</td>\n",
       "      <td>14</td>\n",
       "      <td>16102</td>\n",
       "      <td>제주</td>\n",
       "      <td>济州</td>\n",
       "      <td>Jeju</td>\n",
       "      <td>1231</td>\n",
       "      <td>10083</td>\n",
       "      <td>1231</td>\n",
       "      <td>0</td>\n",
       "      <td>2387</td>\n",
       "      <td>15227</td>\n",
       "      <td>2022년 02월 20일 00시</td>\n",
       "      <td>null</td>\n",
       "    </tr>\n",
       "    <tr>\n",
       "      <th>13679</th>\n",
       "      <td>2022-02-20 08:53:21.99</td>\n",
       "      <td>16</td>\n",
       "      <td>9501</td>\n",
       "      <td>검역</td>\n",
       "      <td>隔離區</td>\n",
       "      <td>Lazaretto</td>\n",
       "      <td>20</td>\n",
       "      <td>8653</td>\n",
       "      <td>0</td>\n",
       "      <td>20</td>\n",
       "      <td>-</td>\n",
       "      <td>15228</td>\n",
       "      <td>2022년 02월 20일 00시</td>\n",
       "      <td>null</td>\n",
       "    </tr>\n",
       "  </tbody>\n",
       "</table>\n",
       "<p>13680 rows × 14 columns</p>\n",
       "</div>"
      ],
      "text/plain": [
       "                      createDt deathCnt defCnt gubun gubunCn  \\\n",
       "0      2020-03-03 09:00:00.000        0      0    검역     隔離區   \n",
       "1      2020-03-03 09:00:00.000       28   4812    합계      合计   \n",
       "2      2020-03-03 09:00:00.000        0     98    서울      首尔   \n",
       "3      2020-03-03 09:00:00.000        0     87    부산      釜山   \n",
       "4      2020-03-03 09:00:00.000       20   3604    대구      大邱   \n",
       "...                        ...      ...    ...   ...     ...   \n",
       "13675  2022-02-20 08:53:21.989       53  35837    전남      全南   \n",
       "13676  2022-02-20 08:53:21.989      273  60572    경북      庆北   \n",
       "13677  2022-02-20 08:53:21.989      132  78329    경남      庆南   \n",
       "13678  2022-02-20 08:53:21.989       14  16102    제주      济州   \n",
       "13679   2022-02-20 08:53:21.99       16   9501    검역     隔離區   \n",
       "\n",
       "                gubunEn incDec isolClearCnt localOccCnt overFlowCnt qurRate  \\\n",
       "0             Lazaretto      0            0           0           0    0.00   \n",
       "1                 Total    600           34         599           1    9.28   \n",
       "2                 Seoul      7           13           7           0    1.01   \n",
       "3                 Busan      2            0           2           0    2.55   \n",
       "4                 Daegu    520            2         520           0  147.92   \n",
       "...                 ...    ...          ...         ...         ...     ...   \n",
       "13675      Jeollanam-do   2064         6931        2060           4    1936   \n",
       "13676  Gyeongsangbuk-do   3349        19098        3342           7    2295   \n",
       "13677  Gyeongsangnam-do   5093        40611        5087           6    2345   \n",
       "13678              Jeju   1231        10083        1231           0    2387   \n",
       "13679         Lazaretto     20         8653           0          20       -   \n",
       "\n",
       "         seq             stdDay                 updateDt  \n",
       "0        818  2020년 03월 03일 00시  2021-09-16 10:11:33.897  \n",
       "1        836  2020년 03월 03일 00시  2021-09-16 10:11:33.897  \n",
       "2        835  2020년 03월 03일 00시  2021-09-16 10:11:33.897  \n",
       "3        834  2020년 03월 03일 00시  2021-09-16 10:11:33.897  \n",
       "4        833  2020년 03월 03일 00시  2021-09-16 10:11:33.897  \n",
       "...      ...                ...                      ...  \n",
       "13675  15224  2022년 02월 20일 00시                     null  \n",
       "13676  15225  2022년 02월 20일 00시                     null  \n",
       "13677  15226  2022년 02월 20일 00시                     null  \n",
       "13678  15227  2022년 02월 20일 00시                     null  \n",
       "13679  15228  2022년 02월 20일 00시                     null  \n",
       "\n",
       "[13680 rows x 14 columns]"
      ]
     },
     "execution_count": 7,
     "metadata": {},
     "output_type": "execute_result"
    }
   ],
   "source": [
    "# 정상 응답\n",
    "if response.status == 200:\n",
    "    response = xmltodict.parse(response.read())['response']\n",
    "    # 결과가 정상적으로 반환되었을 때\n",
    "    if response['header']['resultCode'] == '00':\n",
    "        # 결과 아이템이 존재할 때\n",
    "        if response['body']['items']:\n",
    "            covid_data = pd.DataFrame(response['body']['items']['item'])\n",
    "            covid_data.sort_values(by=['createDt'], ignore_index=True, inplace=True)\n",
    "            \n",
    "covid_data"
   ]
  },
  {
   "cell_type": "markdown",
   "metadata": {},
   "source": [
    "## 모델링"
   ]
  },
  {
   "cell_type": "code",
   "execution_count": 5,
   "metadata": {},
   "outputs": [],
   "source": [
    "covid_data = pd.read_csv(ROOT / 'data/20200303_20220220_covid.csv')"
   ]
  },
  {
   "cell_type": "code",
   "execution_count": 6,
   "metadata": {},
   "outputs": [],
   "source": [
    "INPUT_LEN = 28\n",
    "OUTPUT_LEN = 15"
   ]
  },
  {
   "cell_type": "code",
   "execution_count": 46,
   "metadata": {},
   "outputs": [
    {
     "name": "stdout",
     "output_type": "stream",
     "text": [
      "Total len: 720\n",
      "Train len: 720\n",
      "Test len: 0\n"
     ]
    }
   ],
   "source": [
    "inc_dec_data = covid_data[covid_data.gubunEn == 'Total'].incDec.astype('int').values\n",
    "\n",
    "train_data = inc_dec_data[:int(len(inc_dec_data) * 1)]\n",
    "test_data = inc_dec_data[int(len(inc_dec_data) * 1):]\n",
    "\n",
    "print(f'Total len: {len(inc_dec_data)}')\n",
    "print(f'Train len: {len(train_data)}')\n",
    "print(f'Test len: {len(test_data)}')"
   ]
  },
  {
   "cell_type": "code",
   "execution_count": 48,
   "metadata": {},
   "outputs": [],
   "source": [
    "scaler = MinMaxScaler()\n",
    "\n",
    "train_scaled = scaler.fit_transform(train_data.reshape(-1, 1))\n",
    "# test_scaled = scaler.transform(test_data.reshape(-1, 1))"
   ]
  },
  {
   "cell_type": "code",
   "execution_count": 31,
   "metadata": {},
   "outputs": [],
   "source": [
    "class CovidDataset(Dataset):\n",
    "    def __init__(self, X, y, input_len, output_len):\n",
    "        self.X = torch.Tensor(X).float()\n",
    "        self.y = torch.Tensor(y).float()\n",
    "        self.input_len = input_len\n",
    "        self.output_len = output_len\n",
    "        \n",
    "    def __len__(self):\n",
    "        return self.X.__len__() - self.input_len - self.output_len + 1\n",
    "    \n",
    "    def __getitem__(self, index):\n",
    "        return (self.X[index:index + self.input_len],\n",
    "                self.y[index + self.input_len:index + self.input_len + self.output_len])"
   ]
  },
  {
   "cell_type": "code",
   "execution_count": 49,
   "metadata": {},
   "outputs": [],
   "source": [
    "train_loader = DataLoader(CovidDataset(train_scaled, train_scaled.reshape(-1), INPUT_LEN, OUTPUT_LEN),\n",
    "                          batch_size=64)\n",
    "# test_loader = DataLoader(CovidDataset(test_scaled, test_scaled.reshape(-1), INPUT_LEN, OUTPUT_LEN),\n",
    "#                          batch_size=16)"
   ]
  },
  {
   "cell_type": "code",
   "execution_count": 33,
   "metadata": {},
   "outputs": [],
   "source": [
    "class LSTMRegressor(pl.LightningModule):\n",
    "    def __init__(self,\n",
    "                 n_features,\n",
    "                 hidden_size,\n",
    "                 input_len,\n",
    "                 output_len,\n",
    "                 num_layers,\n",
    "                 dropout,\n",
    "                 learning_rate,\n",
    "                 criterion):\n",
    "        super(LSTMRegressor, self).__init__()\n",
    "        \n",
    "        self.lstm = nn.LSTM(input_size=n_features,\n",
    "                            hidden_size=hidden_size,\n",
    "                            num_layers=num_layers,\n",
    "                            dropout=dropout,\n",
    "                            batch_first=True)\n",
    "        \n",
    "        self.linear = nn.Linear(hidden_size, output_len)\n",
    "        \n",
    "        self.__dict__.update(locals())\n",
    "        \n",
    "    def forward(self, x):\n",
    "        lstm_out, _ = self.lstm(x)\n",
    "        y_pred = self.linear(lstm_out[:, -1])\n",
    "        return y_pred\n",
    "    \n",
    "    def configure_optimizers(self):\n",
    "        return torch.optim.Adam(self.parameters(), lr=self.learning_rate)\n",
    "    \n",
    "    def training_step(self, batch, batch_idx):\n",
    "        x, y = batch\n",
    "        y_hat = self(x)\n",
    "        loss = self.criterion(y_hat, y)\n",
    "        return loss\n",
    "    \n",
    "    def test_step(self, batch, batch_idx):\n",
    "        x, y = batch\n",
    "        y_hat = self(x)\n",
    "        loss = self.criterion(y_hat, y)\n",
    "        self.log_dict({'loss': loss})"
   ]
  },
  {
   "cell_type": "code",
   "execution_count": 50,
   "metadata": {},
   "outputs": [],
   "source": [
    "hyp = dict(\n",
    "    n_features=1,\n",
    "    hidden_size=128,\n",
    "    input_len=INPUT_LEN,\n",
    "    output_len=OUTPUT_LEN,\n",
    "    num_layers=2,\n",
    "    dropout=0.2,\n",
    "    learning_rate=1e-3,\n",
    "    criterion=nn.MSELoss()\n",
    ")"
   ]
  },
  {
   "cell_type": "code",
   "execution_count": 51,
   "metadata": {},
   "outputs": [
    {
     "name": "stderr",
     "output_type": "stream",
     "text": [
      "GPU available: False, used: False\n",
      "TPU available: False, using: 0 TPU cores\n",
      "IPU available: False, using: 0 IPUs\n",
      "\n",
      "  | Name   | Type   | Params\n",
      "----------------------------------\n",
      "0 | lstm   | LSTM   | 199 K \n",
      "1 | linear | Linear | 1.9 K \n",
      "----------------------------------\n",
      "201 K     Trainable params\n",
      "0         Non-trainable params\n",
      "201 K     Total params\n",
      "0.804     Total estimated model params size (MB)\n",
      "/Users/kih/miniforge3/envs/dev-py38/lib/python3.8/site-packages/pytorch_lightning/trainer/data_loading.py:132: UserWarning: The dataloader, train_dataloader, does not have many workers which may be a bottleneck. Consider increasing the value of the `num_workers` argument` (try 10 which is the number of cpus on this machine) in the `DataLoader` init to improve performance.\n",
      "  rank_zero_warn(\n"
     ]
    },
    {
     "name": "stdout",
     "output_type": "stream",
     "text": [
      "Epoch 9: 100%|██████████| 11/11 [00:05<00:00,  1.84it/s, loss=0.00631, v_num=11] \n"
     ]
    }
   ],
   "source": [
    "model = LSTMRegressor(**hyp)\n",
    "\n",
    "trainer = pl.Trainer(max_epochs=10,\n",
    "                     log_every_n_steps=2)\n",
    "trainer.fit(model, train_dataloaders=train_loader)"
   ]
  },
  {
   "cell_type": "code",
   "execution_count": 52,
   "metadata": {},
   "outputs": [
    {
     "name": "stderr",
     "output_type": "stream",
     "text": [
      "/Users/kih/miniforge3/envs/dev-py38/lib/python3.8/site-packages/pytorch_lightning/trainer/data_loading.py:132: UserWarning: The dataloader, test_dataloader 0, does not have many workers which may be a bottleneck. Consider increasing the value of the `num_workers` argument` (try 10 which is the number of cpus on this machine) in the `DataLoader` init to improve performance.\n",
      "  rank_zero_warn(\n"
     ]
    },
    {
     "name": "stdout",
     "output_type": "stream",
     "text": [
      "Testing: 100%|██████████| 11/11 [00:01<00:00,  6.09it/s]--------------------------------------------------------------------------------\n",
      "DATALOADER:0 TEST RESULTS\n",
      "{'loss': 0.0035907153505831957}\n",
      "--------------------------------------------------------------------------------\n",
      "Testing: 100%|██████████| 11/11 [00:01<00:00,  6.85it/s]\n"
     ]
    },
    {
     "data": {
      "text/plain": [
       "[{'loss': 0.0035907153505831957}]"
      ]
     },
     "execution_count": 52,
     "metadata": {},
     "output_type": "execute_result"
    }
   ],
   "source": [
    "trainer.test(model, train_loader)"
   ]
  },
  {
   "cell_type": "code",
   "execution_count": 53,
   "metadata": {},
   "outputs": [],
   "source": [
    "model.eval()\n",
    "\n",
    "truths = []\n",
    "preds = []\n",
    "\n",
    "for X, y in train_loader:\n",
    "    y_hat = model(X)\n",
    "    \n",
    "    truths.append(y)\n",
    "    preds.append(y_hat)\n",
    "    \n",
    "truths = torch.cat(truths).detach().numpy()\n",
    "preds = torch.cat(preds).detach().numpy()"
   ]
  },
  {
   "cell_type": "code",
   "execution_count": 55,
   "metadata": {},
   "outputs": [
    {
     "data": {
      "image/png": "[encoded data removed]",
      "text/plain": [
       "<Figure size 432x288 with 1 Axes>"
      ]
     },
     "metadata": {
      "needs_background": "light"
     },
     "output_type": "display_data"
    }
   ],
   "source": [
    "plt.plot(truths[:, 0])\n",
    "plt.plot(preds[:, 0])\n",
    "plt.show()"
   ]
  },
  {
   "cell_type": "code",
   "execution_count": null,
   "metadata": {},
   "outputs": [],
   "source": []
  }
 ],
 "metadata": {
  "interpreter": {
   "hash": "e7370f93d1d0cde622a1f8e1c04877d8463912d04d973331ad4851f04de6915a"
  },
  "kernelspec": {
   "display_name": "Python 3.8.10 64-bit",
   "language": "python",
   "name": "python3"
  },
  "language_info": {
   "codemirror_mode": {
    "name": "ipython",
    "version": 3
   },
   "file_extension": ".py",
   "mimetype": "text/x-python",
   "name": "python",
   "nbconvert_exporter": "python",
   "pygments_lexer": "ipython3",
   "version": "3.8.12"
  },
  "orig_nbformat": 4
 },
 "nbformat": 4,
 "nbformat_minor": 2
}
